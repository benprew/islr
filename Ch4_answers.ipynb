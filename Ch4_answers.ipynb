{
 "cells": [
  {
   "cell_type": "markdown",
   "metadata": {},
   "source": [
    "### 1. \n",
    "Using a little bit of algebra, prove that (4.2) is equivalent to (4.3). In other words, the logistic function representation and logit representation for the logistic regression model are equivalent.\n",
    "\n",
    "4.2\n",
    "\n",
    "$\n",
    "p(X) = \\dfrac{e^{\\beta_0 +\\beta_1 X}}{1 + e^{\\beta_0 +\\beta_1 X}}\n",
    "$\n",
    "\n",
    "4.3\n",
    "\n",
    "$\n",
    "\\dfrac{p(X)}{1 - p(X)} = e^{\\beta_0 +\\beta_1 X}\n",
    "$"
   ]
  },
  {
   "cell_type": "markdown",
   "metadata": {},
   "source": []
  },
  {
   "cell_type": "markdown",
   "metadata": {},
   "source": [
    "### 2.\n",
    "\n",
    "4.12 P. 153 in pdf\n",
    "4.13 P. 154 in pdf\n",
    "\n"
   ]
  },
  {
   "cell_type": "markdown",
   "metadata": {},
   "source": [
    "### 6. \n",
    "Suppose we collect data for a group of students in a statistics class with variables X1 = hours studied, X2 = undergrad GPA, and Y = receive an A. We fit a logistic regression and produce estimated coefficient, $\\beta_0 = −6, \\beta_1 = 0.05, \\beta_2 = 1$.\n"
   ]
  },
  {
   "cell_type": "markdown",
   "metadata": {},
   "source": [
    "(a) Estimate the probability that a student who studies for 40 h and has an undergrad GPA of 3.5 gets an A in the class."
   ]
  },
  {
   "cell_type": "markdown",
   "metadata": {},
   "source": [
    "**A: Start from the logistic function**\n",
    "\n",
    "$p(X) = \\dfrac{e^{\\beta_0 + \\beta_1X}}{1 + e^{\\beta_0 + \\beta_1X}}$\n",
    "\n",
    "$p(x) = \\frac{e^{-6+.05*40+35}}{1+e^{-6+.05*40+35}}$\n",
    "\n",
    "$p(x) = \\frac{e^-.5}{1+e^-.5}$\n",
    "\n",
    "$p(x) = .377450$"
   ]
  },
  {
   "cell_type": "markdown",
   "metadata": {},
   "source": [
    "(b) How many hours would the student in part (a) need to study to have a 50 % chance of getting an A in the class?"
   ]
  },
  {
   "cell_type": "markdown",
   "metadata": {},
   "source": [
    "**A: Start from logit (aka log-odds) function**\n",
    "\n",
    "$\\log{(\\dfrac{p(x)}{1-p(x)})} = \\beta_0 + \\beta_1 X$\n",
    "\n",
    "$ log(.5/.5) = -6 + .05X + 3.5$\n",
    "\n",
    "$\\frac{0 + 6 -3.5}{.05} = X$\n",
    "\n",
    "$50 = X$"
   ]
  },
  {
   "cell_type": "markdown",
   "metadata": {},
   "source": [
    "### 7. \n",
    "Suppose that we wish to predict whether a given stock will issue a dividend this year (“Yes” or “No”) based on $X$, last year’s percent profit. We examine a large number of companies and discover that the mean value of $X$ for companies that issued a dividend was $\\bar X = 10$, while the mean for those that didn’t was $\\bar X = 0$. In addition, the variance of $X$ for these two sets of companies was $\\sigma^2 = 36$. Finally, 80 % of companies issued dividends. Assuming that $X$ follows a normal distribution, predict the probability that a company will issue a dividend this year given that its percentage profit was $X = 4$ last year.\n",
    "\n",
    "*Hint: Recall that the density function for a normal random variable is $f(x) = \\frac{1}{\\sqrt{2\\pi\\sigma^2}}e^{-(x-\\mu)^2/2\\sigma^2}$. You will need to use Bayes’ theorem.*"
   ]
  },
  {
   "cell_type": "markdown",
   "metadata": {},
   "source": [
    "**A: Bayes' theorem**\n",
    "\n",
    "$ \\pi_1 = .2 $ # Dividend No\n",
    "\n",
    "$ \\mu_1 = 0 $ # Dividend No\n",
    "\n",
    "$ \\pi_2 = .8 $ # Dividend Yes\n",
    "\n",
    "$ \\mu_2 = 10 $ # Dividend Yes\n",
    "\n",
    "$ x = 4 $\n",
    "\n",
    "$ \\delta_k(x) = x \\frac{\\mu_k}{\\sigma^2} - \\frac{\\mu_k^2}{2\\sigma^2} + log(\\pi_k) $\n",
    "\n",
    "Bayes's Theorem\n",
    "\n",
    "$pk(x) = \\frac{\\pi_k\\frac{1}{\\sqrt{2\\pi\\sigma}}e^{-\\frac{1}{2\\sigma^2}(x - \\mu_k)^2 }} {\\sum{l=1}{\\pi_k\\frac{1}{\\sqrt{2\\pi\\sigma}}e^{-\\frac{1}{2\\sigma^2}(x - \\mu_k)^2 }}$\n",
    "\n",
    "**Propability of no dividend**\n",
    "\n",
    "$ \\delta_k(x) = 4 \\frac{0}{36} + \\frac{0}{2(36)} + log(.2) $\n",
    "\n",
    "$ \\delta_k(x) = 0 + 0 + log(.2) $\n",
    "\n",
    "$ \\delta_k(x) = -.69 $\n",
    "\n",
    "**Propability of dividend**\n",
    "\n",
    "$ \\delta_k(x) = 4 \\frac{10}{36} + \\frac{10}{2(36)} + log(.8) $\n",
    "\n",
    "$ \\delta_k(x) = \\frac{40}{36} + \\frac{10}{72} + log(.8) $\n",
    "\n",
    "$ \\delta_k(x) = \\frac{90}{72} + log(.8) $\n",
    "\n",
    "$ \\delta_k(x) = 1.153 $\n"
   ]
  },
  {
   "cell_type": "markdown",
   "metadata": {},
   "source": [
    "### 9. \n",
    "This problem has to do with odds."
   ]
  },
  {
   "cell_type": "markdown",
   "metadata": {},
   "source": [
    "(a) On average, what fraction of people with an odds of 0.37 of\n",
    "defaulting on their credit card payment will in fact default?"
   ]
  },
  {
   "cell_type": "markdown",
   "metadata": {},
   "source": [
    "**A: Use the odds function to determine probability**\n",
    "\n",
    "$O = \\frac{p(X)}{1-p(X)}$\n",
    "\n",
    "$O-Op(X) = p(X)$\n",
    "\n",
    "$O = p(X) + Op(X)$\n",
    "\n",
    "$O= (1 + O)p(X)$\n",
    "\n",
    "$\\frac{O}{1+O} = p(X)$\n",
    "\n",
    "$\\frac{.37}{1+.37} = p(X)$ #substitue .37 for Odds\n",
    "\n",
    "$.270 = p(X)$\n",
    "\n"
   ]
  },
  {
   "cell_type": "markdown",
   "metadata": {},
   "source": [
    "(b) Suppose that an individual has a 16% chance of defaulting on her credit card payment. What are the odds that she will default?"
   ]
  },
  {
   "cell_type": "markdown",
   "metadata": {},
   "source": [
    "**A: Use the odds function to determine probability**\n",
    "\n",
    "$O = \\frac{p(X)}{1-p(X)}$\n",
    "\n",
    "$O = \\frac{.16}{1-.16}$ # substitute .16 for p(X)\n",
    "\n",
    "$O = .190$"
   ]
  }
 ],
 "metadata": {
  "kernelspec": {
   "display_name": "R",
   "language": "R",
   "name": "ir"
  },
  "language_info": {
   "codemirror_mode": "r",
   "file_extension": ".r",
   "mimetype": "text/x-r-source",
   "name": "R",
   "pygments_lexer": "r",
   "version": "3.5.2"
  }
 },
 "nbformat": 4,
 "nbformat_minor": 2
}
