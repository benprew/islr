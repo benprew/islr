{
 "cells": [
  {
   "cell_type": "markdown",
   "metadata": {},
   "source": [
    "1. Using a little bit of algebra, prove that (4.2) is equivalent to (4.3). In other words, the logistic function representation and logit representation for the logistic regression model are equivalent.\n",
    "\n",
    "4.2\n",
    "\n",
    "$\n",
    "p(X) = \\dfrac{e^{\\beta_0 +\\beta_1 X}}{1 + e^{\\beta_0 +\\beta_1 X}}\n",
    "$\n",
    "\n",
    "4.3\n",
    "\n",
    "$\n",
    "\\dfrac{p(X)}{1 - p(X)} = e^{\\beta_0 +\\beta_1 X}\n",
    "$"
   ]
  },
  {
   "cell_type": "markdown",
   "metadata": {},
   "source": []
  },
  {
   "cell_type": "code",
   "execution_count": null,
   "metadata": {},
   "outputs": [],
   "source": []
  }
 ],
 "metadata": {
  "kernelspec": {
   "display_name": "R",
   "language": "R",
   "name": "ir"
  },
  "language_info": {
   "codemirror_mode": "r",
   "file_extension": ".r",
   "mimetype": "text/x-r-source",
   "name": "R",
   "pygments_lexer": "r",
   "version": "3.5.2"
  }
 },
 "nbformat": 4,
 "nbformat_minor": 2
}
