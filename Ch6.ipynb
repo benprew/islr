{
 "cells": [
  {
   "cell_type": "code",
   "execution_count": 3,
   "metadata": {},
   "outputs": [
    {
     "name": "stdout",
     "output_type": "stream",
     "text": [
      " [1] \"AtBat\"     \"Hits\"      \"HmRun\"     \"Runs\"      \"RBI\"       \"Walks\"    \n",
      " [7] \"Years\"     \"CAtBat\"    \"CHits\"     \"CHmRun\"    \"CRuns\"     \"CRBI\"     \n",
      "[13] \"CWalks\"    \"League\"    \"Division\"  \"PutOuts\"   \"Assists\"   \"Errors\"   \n",
      "[19] \"Salary\"    \"NewLeague\"\n"
     ]
    }
   ],
   "source": [
    "library(ISLR)\n",
    "# fix(Hitters)\n",
    "print(names(Hitters))"
   ]
  },
  {
   "cell_type": "code",
   "execution_count": 14,
   "metadata": {},
   "outputs": [
    {
     "ename": "ERROR",
     "evalue": "Error in regsubsets(data = data.full, nvmax = 10): argument \"x\" is missing, with no default\n",
     "output_type": "error",
     "traceback": [
      "Error in regsubsets(data = data.full, nvmax = 10): argument \"x\" is missing, with no default\nTraceback:\n",
      "1. regsubsets(data = data.full, nvmax = 10)"
     ]
    }
   ],
   "source": [
    "library(leaps)\n",
    "set.seed(1)\n",
    "X <- rnorm(100)\n",
    "noise <- rnorm(100)\n",
    "# b)                                                                                                                                \n",
    "Y <- 1+2*X+3*X^2+3*X^3+noise\n",
    "# c)                                                                                                                                \n",
    "data.full <- data.frame(X, Y)\n",
    "?regsubsets\n",
    "regfit <- regsubsets(data=data.full, nvmax=10)\n",
    "par(mfrow=c(2,2))\n",
    "plot(regfit, scale=\"adjr2\")\n",
    "plot(regfit, scale=\"Cp\")\n",
    "plot(regfit, scale=\"bic\")"
   ]
  }
 ],
 "metadata": {
  "kernelspec": {
   "display_name": "R",
   "language": "R",
   "name": "ir"
  },
  "language_info": {
   "codemirror_mode": "r",
   "file_extension": ".r",
   "mimetype": "text/x-r-source",
   "name": "R",
   "pygments_lexer": "r",
   "version": "3.5.2"
  }
 },
 "nbformat": 4,
 "nbformat_minor": 2
}
