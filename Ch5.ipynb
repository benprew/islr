{
 "cells": [
  {
   "cell_type": "markdown",
   "metadata": {},
   "source": [
    "Cross validation and bootstrap.\n",
    "\n",
    "Training error vs test error\n",
    "Training error is the error we get from applying the model to the data we used to build the model.\n",
    "Test error is the error we get from applying the model to data that has not been used to build the model.\n",
    "\n",
    "CP statistic AIC, BIC, use to estimate test error from training error.\n",
    "\n",
    "Cross-validation, hold out some part of data from training set to use as test data.  Measured by MSE (mean squared error) for quantitative responses and misclassification error rate for qualitative responses (classifications)\n",
    "\n",
    "CV is used to pick polynomial of the model, not good at telling us the level of the error, wide range.  Highly variable because we're splitting into 2 parts, throwing away half the data in training.\n",
    "\n",
    "Generally more observations lead to lower error rate.\n",
    "\n",
    "5.1.2 LOOCV (Leave One Out Cross Validation)\n",
    "make multiple training sets, each with one value less in it.  Train and test each successive subset and average the MSE across all the permutations of training/test sets.\n",
    "\n",
    "Advantage is less bias in the result, and no randomness.  Disadvantage is that it can be expensive to implement\n",
    "\n",
    "5.1.3 k-fold cross validation\n",
    "Same as LOOCV, but you take $n/k$ observations as test, with the remainder as training.  You take successive subsets and average the MSE across the permutations of training/test sets. LOOCV is basically k-fold with k set to n.  However, one usually uses k=5 or k=10, mostly for computational advantage.\n",
    "\n",
    "5.1.4 bias-variance trade-off for k-fold CV vs LOOCV\n",
    "\n",
    "5.1.5 CV on classification problems\n",
    "Instead of using MSE, calculated avg # of misclassified observations per subset.\n",
    "\n",
    "5.2 the bootstrap\n",
    "sampling is performed with replacement"
   ]
  },
  {
   "cell_type": "markdown",
   "metadata": {},
   "source": [
    "### Lab\n",
    "\n"
   ]
  },
  {
   "cell_type": "code",
   "execution_count": null,
   "metadata": {},
   "outputs": [],
   "source": [
    "library(ISLR)\n",
    "attach(Auto)"
   ]
  },
  {
   "cell_type": "code",
   "execution_count": 27,
   "metadata": {},
   "outputs": [
    {
     "data": {
      "text/html": [
       "26.1414211520072"
      ],
      "text/latex": [
       "26.1414211520072"
      ],
      "text/markdown": [
       "26.1414211520072"
      ],
      "text/plain": [
       "[1] 26.14142"
      ]
     },
     "metadata": {},
     "output_type": "display_data"
    },
    {
     "data": {
      "text/html": [
       "19.8225850408262"
      ],
      "text/latex": [
       "19.8225850408262"
      ],
      "text/markdown": [
       "19.8225850408262"
      ],
      "text/plain": [
       "[1] 19.82259"
      ]
     },
     "metadata": {},
     "output_type": "display_data"
    },
    {
     "data": {
      "text/html": [
       "19.7825166856023"
      ],
      "text/latex": [
       "19.7825166856023"
      ],
      "text/markdown": [
       "19.7825166856023"
      ],
      "text/plain": [
       "[1] 19.78252"
      ]
     },
     "metadata": {},
     "output_type": "display_data"
    }
   ],
   "source": [
    "set.seed(1)\n",
    "train=sample(392,196)\n",
    "lm.fit=lm(mpg~horsepower, data=Auto, subset=train)\n",
    "mean((mpg - predict(lm.fit, Auto))[-train]^2) # MSE\n",
    "\n",
    "lm.fit2=lm(mpg~poly(horsepower, 2),data=Auto,subset=train) \n",
    "# MSE quadratic regression, different from QDA?\n",
    "mean((mpg-predict(lm.fit2,Auto))[-train]^2)\n",
    "\n",
    "# MSE for cubic regression\n",
    "lm.fit3=lm(mpg~poly(horsepower, 3),data=Auto,subset=train)\n",
    "mean((mpg-predict(lm.fit3,Auto))[-train]^2)\n",
    "\n"
   ]
  },
  {
   "cell_type": "markdown",
   "metadata": {},
   "source": [
    "###### 1. \n",
    "Using basic statistical properties of the variance, as well as single-variable calculus, derive (5.6). In other words, prove that $α$ given by (5.6) does indeed minimize $Var(αX + (1 − α)Y )$.\n",
    "\n",
    "(5.6)\n",
    "$α= \\frac{\\sigma_Y^2 − σ_{XY}}{σ_X^2 + σ_Y^2 − 2σ_{XY}}$\n",
    "\n",
    "where $σ_X^2 = Var(X)$, $σ_Y^2 = Var(Y)$, and $σ_{XY} = Cov(X, Y)$.\n",
    "\n",
    "$\\sigma^2 = Var(X)$\n",
    "\n",
    "$Var(aX+bY) = a^2Var(X) + b^2Var(Y) + 2abCov(XY)$"
   ]
  },
  {
   "cell_type": "markdown",
   "metadata": {},
   "source": [
    "### 2. \n",
    "We will now derive the probability that a given observation is part of a bootstrap sample. Suppose that we obtain a bootstrap sample from a set of n observations.\n",
    "\n",
    "#### (a) What is the probability that the first bootstrap observation is not the jth observation from the original sample? Justify your answer."
   ]
  },
  {
   "cell_type": "markdown",
   "metadata": {},
   "source": [
    "**A**\n",
    "\n",
    "$1 - (\\frac{1}{n})$ \n",
    "\n",
    "Because we sample with replacement, each sample is independent from the others."
   ]
  },
  {
   "cell_type": "markdown",
   "metadata": {},
   "source": [
    "#### (b) What is the probability that the second bootstrap observation is not the jth observation from the original sample?\n",
    "\n",
    "$1 - (\\frac{1}{n})$\n",
    "\n",
    "Same as A because we sample with replacement\n"
   ]
  },
  {
   "cell_type": "markdown",
   "metadata": {},
   "source": [
    "#### (c) Argue that the probability that the jth observation is not in the bootstrap sample is $(1 − 1/n)^n$.\n",
    "\n",
    "$(1 - (1/n))(1-1/n)..n times = (1-1/n)^n$"
   ]
  },
  {
   "cell_type": "markdown",
   "metadata": {},
   "source": [
    "#### (d) When n = 5, what is the probability that the jth observation is in the bootstrap sample?"
   ]
  },
  {
   "cell_type": "code",
   "execution_count": 22,
   "metadata": {},
   "outputs": [
    {
     "data": {
      "text/html": [
       "0.67232"
      ],
      "text/latex": [
       "0.67232"
      ],
      "text/markdown": [
       "0.67232"
      ],
      "text/plain": [
       "[1] 0.67232"
      ]
     },
     "metadata": {},
     "output_type": "display_data"
    }
   ],
   "source": [
    "1 - (1-1/5)^5"
   ]
  },
  {
   "cell_type": "markdown",
   "metadata": {},
   "source": [
    "#### (e) When n = 100, what is the probability that the jth observation is in the bootstrap sample?"
   ]
  },
  {
   "cell_type": "code",
   "execution_count": 23,
   "metadata": {},
   "outputs": [
    {
     "data": {
      "text/html": [
       "0.633967658726771"
      ],
      "text/latex": [
       "0.633967658726771"
      ],
      "text/markdown": [
       "0.633967658726771"
      ],
      "text/plain": [
       "[1] 0.6339677"
      ]
     },
     "metadata": {},
     "output_type": "display_data"
    }
   ],
   "source": [
    "1 - (1 - 1/100)^100"
   ]
  },
  {
   "cell_type": "markdown",
   "metadata": {},
   "source": [
    "#### (f) When n = 10, 000, what is the probability that the jth observa- tion is in the bootstrap sample?"
   ]
  },
  {
   "cell_type": "code",
   "execution_count": 25,
   "metadata": {},
   "outputs": [
    {
     "data": {
      "text/html": [
       "0.63213895356703"
      ],
      "text/latex": [
       "0.63213895356703"
      ],
      "text/markdown": [
       "0.63213895356703"
      ],
      "text/plain": [
       "[1] 0.632139"
      ]
     },
     "metadata": {},
     "output_type": "display_data"
    }
   ],
   "source": [
    "1 - (1 - 1/10000)^10000"
   ]
  },
  {
   "cell_type": "markdown",
   "metadata": {},
   "source": [
    "#### (g) Create a plot that displays, for each integer value of n from 1 to 100,000, the probability that the jth observation is in the bootstrap sample. Comment on what you observe."
   ]
  },
  {
   "cell_type": "code",
   "execution_count": null,
   "metadata": {},
   "outputs": [],
   "source": []
  },
  {
   "cell_type": "markdown",
   "metadata": {},
   "source": [
    "#### (h) We will now investigate numerically the probability that a boot- strap sample of size n = 100 contains the jth observation. Here j = 4. We repeatedly create bootstrap samples, and each time we record whether or not the fourth observation is contained in the bootstrap sample.\n",
    "\n",
    "    > store=rep(NA, 10000) \n",
    "    > for(i in 1:10000){\n",
    "        store[i]=sum(sample(1:100, rep=TRUE)==4)>0 }\n",
    "    > mean(store)\n",
    "    \n",
    "Comment on the results obtained."
   ]
  },
  {
   "cell_type": "markdown",
   "metadata": {},
   "source": [
    "### 3. We now review k-fold cross-validation.\n",
    "(a) Explain how k-fold cross-validation is implemented."
   ]
  },
  {
   "cell_type": "markdown",
   "metadata": {},
   "source": [
    "### 5. \n",
    "In Chapter 4, we used logistic regression to predict the probability of default using income and balance on the Default data set. We will now estimate the test error of this logistic regression model using the validation set approach. Do not forget to set a random seed before beginning your analysis.\n",
    "\n",
    "#### (a) Fit a logistic regression model that uses income and balance to predict default."
   ]
  },
  {
   "cell_type": "markdown",
   "metadata": {},
   "source": [
    "#### (b) Using the validation set approach, estimate the test error of this model. In order to do this, you must perform the following steps:\n",
    "1. Split the sample set into a training set and a validation set.\n",
    "2. Fit a multiple logistic regression model using only the training observations.\n",
    "3. Obtain a prediction of default status for each individual in the validation set by computing the posterior probability of default for that individual, and classifying the individual to the default category if the posterior probability is greater than 0.5.\n",
    "4. Compute the validation set error, which is the fraction of the observations in the validation set that are misclassified."
   ]
  },
  {
   "cell_type": "code",
   "execution_count": 81,
   "metadata": {},
   "outputs": [
    {
     "data": {
      "text/html": [
       "0.9666"
      ],
      "text/latex": [
       "0.9666"
      ],
      "text/markdown": [
       "0.9666"
      ],
      "text/plain": [
       "[1] 0.9666"
      ]
     },
     "metadata": {},
     "output_type": "display_data"
    }
   ],
   "source": [
    "require(ISLR)\n",
    "Default$default_bin = ifelse(Default$default == \"No\", 0, 1)\n",
    "\n",
    "set.seed(1)\n",
    "train = sample(10000,5000)\n",
    "\n",
    "lm.fit = lm(default_bin~income+balance, data=Default, subset=train)\n",
    "lm.probs=predict(lm.fit, Default)[-train]\n",
    "lm.pred=ifelse(lm.probs>0.5, \"1\", \"0\")\n",
    "\n",
    "cm = as.matrix(table(lm.pred, Default$default_bin[-train]))\n",
    "n = sum(cm)\n",
    "diag = diag(cm)\n",
    "sum(diag) / n"
   ]
  },
  {
   "cell_type": "markdown",
   "metadata": {},
   "source": [
    "#### (c) Repeat the process in (b) three times, using three different splits of the observations into a training set and a validation set. Comment on the results obtained."
   ]
  },
  {
   "cell_type": "code",
   "execution_count": 82,
   "metadata": {},
   "outputs": [
    {
     "name": "stdout",
     "output_type": "stream",
     "text": [
      "[1] 0.967\n",
      "       \n",
      "lm.pred    0    1\n",
      "      0 4835  165\n",
      "[1] 0.9656\n",
      "       \n",
      "lm.pred    0    1\n",
      "      0 4828  172\n",
      "[1] 0.967\n",
      "       \n",
      "lm.pred    0    1\n",
      "      0 4835  165\n"
     ]
    }
   ],
   "source": [
    "for(i in 1:3) {\n",
    "    set.seed(i*10)\n",
    "    train = sample(10000,5000)\n",
    "\n",
    "    lm.fit = lm(default_bin~income+balance, data=Default, subset=train)\n",
    "    lm.probs=predict(lm.fit, Default)[-train]\n",
    "    lm.pred=ifelse(lm.probs>0.5, \"1\", \"0\")\n",
    "\n",
    "    cm = as.matrix(table(lm.pred, Default$default_bin[-train]))\n",
    "    n = sum(cm)\n",
    "    diag = diag(cm)\n",
    "    print(sum(diag) / n)\n",
    "    print(table(lm.pred, Default$default_bin[-train]))\n",
    "}"
   ]
  },
  {
   "cell_type": "markdown",
   "metadata": {},
   "source": [
    "#### (d) Now consider a logistic regression model that predicts the probability of default using income, balance, and a dummy variable for student. Estimate the test error for this model using the validation set approach. Comment on whether or not including a dummy variable for student leads to a reduction in the test error rate."
   ]
  },
  {
   "cell_type": "code",
   "execution_count": 85,
   "metadata": {},
   "outputs": [
    {
     "data": {
      "text/html": [
       "0.9666"
      ],
      "text/latex": [
       "0.9666"
      ],
      "text/markdown": [
       "0.9666"
      ],
      "text/plain": [
       "[1] 0.9666"
      ]
     },
     "metadata": {},
     "output_type": "display_data"
    },
    {
     "name": "stdout",
     "output_type": "stream",
     "text": [
      "       \n",
      "lm.pred    0    1\n",
      "      0 4833  167\n"
     ]
    }
   ],
   "source": [
    "Default$student_dummy = ifelse(Default$student == \"No\", 0, 1)\n",
    "\n",
    "set.seed(314)\n",
    "train = sample(10000,5000)\n",
    "\n",
    "lm.fit = lm(default_bin~student_dummy+income+balance, data=Default, subset=train)\n",
    "lm.probs=predict(lm.fit, Default)[-train]\n",
    "lm.pred=ifelse(lm.probs>0.5, \"1\", \"0\")\n",
    "\n",
    "cm = as.matrix(table(lm.pred, Default$default_bin[-train]))\n",
    "n = sum(cm)\n",
    "diag = diag(cm)\n",
    "sum(diag) / n\n",
    "print(table(lm.pred, Default$default_bin[-train]))\n",
    "\n"
   ]
  },
  {
   "cell_type": "markdown",
   "metadata": {},
   "source": [
    "### 6. \n",
    "We continue to consider the use of a logistic regression model to predict the probability of `default` using `income` and `balance` on the `Default` data set. In particular, we will now compute estimates for the standard errors of the `income` and `balance` logistic regression co-efficients in two different ways: (1) using the bootstrap, and (2) using the standard formula for computing the standard errors in the `glm()` function. Do not forget to set a random seed before beginning your analysis.\n",
    "#### (a) Using the `summary()` and `glm()` functions, determine the estimated standard errors for the coefficients associated with income and balance in a multiple logistic regression model that uses both predictors."
   ]
  },
  {
   "cell_type": "code",
   "execution_count": 90,
   "metadata": {},
   "outputs": [
    {
     "data": {
      "text/plain": [
       "\n",
       "Call:\n",
       "glm(formula = default_bin ~ balance + income, data = Default)\n",
       "\n",
       "Deviance Residuals: \n",
       "     Min        1Q    Median        3Q       Max  \n",
       "-0.24607  -0.06989  -0.02663   0.02005   0.98554  \n",
       "\n",
       "Coefficients:\n",
       "              Estimate Std. Error t value Pr(>|t|)    \n",
       "(Intercept) -9.224e-02  5.788e-03 -15.936  < 2e-16 ***\n",
       "balance      1.318e-04  3.514e-06  37.511  < 2e-16 ***\n",
       "income       4.605e-07  1.274e-07   3.613 0.000304 ***\n",
       "---\n",
       "Signif. codes:  0 ‘***’ 0.001 ‘**’ 0.01 ‘*’ 0.05 ‘.’ 0.1 ‘ ’ 1\n",
       "\n",
       "(Dispersion parameter for gaussian family taken to be 0.02821664)\n",
       "\n",
       "    Null deviance: 321.91  on 9999  degrees of freedom\n",
       "Residual deviance: 282.08  on 9997  degrees of freedom\n",
       "AIC: -7294.7\n",
       "\n",
       "Number of Fisher Scoring iterations: 2\n"
      ]
     },
     "metadata": {},
     "output_type": "display_data"
    }
   ],
   "source": [
    "require(ISLR)\n",
    "set.seed(96)\n",
    "Default$default_bin = ifelse(Default$default == 'Yes', 1, 0)\n",
    "glm.fit = glm(default_bin~balance+income, data=Default)\n",
    "summary(glm.fit)"
   ]
  },
  {
   "cell_type": "markdown",
   "metadata": {},
   "source": [
    "#### (b) Write a function, `boot.fn()`, that takes as input the Default data set as well as an index of the observations, and that outputs the coefficient estimates for income and balance in the multiple logistic regression model."
   ]
  },
  {
   "cell_type": "code",
   "execution_count": 93,
   "metadata": {},
   "outputs": [],
   "source": [
    "boot.fn = function(data, index) {\n",
    "    return(coef(glm(default_bin~balance+income ,data=data,subset=index)))    \n",
    "}"
   ]
  },
  {
   "cell_type": "markdown",
   "metadata": {},
   "source": [
    "#### (c) Use the `boot()` function together with your `boot.fn()` function to estimate the standard errors of the logistic regression coefficients for income and balance."
   ]
  },
  {
   "cell_type": "code",
   "execution_count": 96,
   "metadata": {},
   "outputs": [
    {
     "name": "stderr",
     "output_type": "stream",
     "text": [
      "Loading required package: boot\n"
     ]
    },
    {
     "data": {
      "text/plain": [
       "\n",
       "ORDINARY NONPARAMETRIC BOOTSTRAP\n",
       "\n",
       "\n",
       "Call:\n",
       "boot(data = Default, statistic = boot.fn, R = 1000)\n",
       "\n",
       "\n",
       "Bootstrap Statistics :\n",
       "         original        bias     std. error\n",
       "t1* -9.223968e-02  1.396610e-04 6.614673e-03\n",
       "t2*  1.318050e-04 -3.435488e-07 6.562297e-06\n",
       "t3*  4.604568e-07  1.912098e-09 1.316595e-07"
      ]
     },
     "metadata": {},
     "output_type": "display_data"
    }
   ],
   "source": [
    "require(boot)\n",
    "set.seed(101)\n",
    "boot(Default, boot.fn, R=1000)"
   ]
  },
  {
   "cell_type": "markdown",
   "metadata": {},
   "source": [
    "#### (d) Comment on the estimated standard errors obtained using the `glm()` function and using your bootstrap function."
   ]
  },
  {
   "cell_type": "markdown",
   "metadata": {},
   "source": [
    "In the glm model, the stderr for balance is much lower than in the bootstrap model."
   ]
  },
  {
   "cell_type": "markdown",
   "metadata": {},
   "source": [
    "### 7. \n",
    "In Sections 5.3.2 and 5.3.3, we saw that the `cv.glm()` function can be used in order to compute the LOOCV test error estimate. Alternatively, one could compute those quantities using just the `glm()` and `predict.glm()` functions, and a for loop. You will now take this approach in order to compute the LOOCV error for a simple logistic regression model on the `Weekly` data set. Recall that in the context of classification problems, the LOOCV error is given in (5.4).\n",
    "\n",
    "#### (a) Fit a logistic regression model that predicts `Direction` using `Lag1` and `Lag2`."
   ]
  },
  {
   "cell_type": "code",
   "execution_count": 100,
   "metadata": {},
   "outputs": [],
   "source": [
    "set.seed(200)\n",
    "Weekly$Direction_bin = ifelse(Weekly$Direction == 'Up', 1, 0)\n",
    "glm.fit = glm(Direction_bin~Lag1+Lag2, data=Weekly)"
   ]
  },
  {
   "cell_type": "markdown",
   "metadata": {},
   "source": [
    "#### (b) Fit a logistic regression model that predicts `Direction` using `Lag1` and `Lag2` using all but the first observation."
   ]
  },
  {
   "cell_type": "code",
   "execution_count": 111,
   "metadata": {},
   "outputs": [
    {
     "name": "stdout",
     "output_type": "stream",
     "text": [
      "          \n",
      "loocv.pred 0\n",
      "         1 1\n"
     ]
    }
   ],
   "source": [
    "loo = seq(2, nrow(Weekly))\n",
    "loocv.fit = glm(Direction_bin~Lag1+Lag2, data=Weekly, subset=loo)\n",
    "#summary(glm.loocv)"
   ]
  },
  {
   "cell_type": "markdown",
   "metadata": {},
   "source": [
    "#### (c) Use the model from (b) to predict the direction of the first obser- vation. You can do this by predicting that the first observation will go up if P(Direction=\"Up\"|Lag1, Lag2) > 0.5. Was this observation correctly classified?"
   ]
  },
  {
   "cell_type": "code",
   "execution_count": 133,
   "metadata": {},
   "outputs": [
    {
     "name": "stdout",
     "output_type": "stream",
     "text": [
      "        1 \n",
      "0.5708168 \n",
      "[1] 0\n"
     ]
    },
    {
     "data": {
      "text/html": [
       "<strong>1:</strong> 'No'"
      ],
      "text/latex": [
       "\\textbf{1:} 'No'"
      ],
      "text/markdown": [
       "**1:** 'No'"
      ],
      "text/plain": [
       "   1 \n",
       "\"No\" "
      ]
     },
     "metadata": {},
     "output_type": "display_data"
    }
   ],
   "source": [
    "loocv.probs = predict(loocv.fit, Weekly)[-loo]\n",
    "print(loocv.probs)\n",
    "print(Weekly$Direction_bin[-loo])\n",
    "loocv.pred=ifelse(loocv.probs>0.5, 1, 0)\n",
    "\n",
    "ifelse(loocv.pred == Weekly$Direction_bin[-loo], 'Yes', 'No')\n"
   ]
  },
  {
   "cell_type": "markdown",
   "metadata": {},
   "source": [
    "#### (d) Write a for loop from i=1 to i=n, where n is the number of observations in the data set, that performs each of the following steps:\n",
    "1. Fit a logistic regression model using all but the ith observation to predict `Direction` using `Lag1` and `Lag2`.\n",
    "2. Compute the posterior probability of the market moving up for the ith observation.\n",
    "3. Use the posterior probability for the ith observation in order to predict whether or not the market moves up.\n",
    "4. Determine whether or not an error was made in predicting the direction for the ith observation. If an error was made, then indicate this as a 1, and otherwise indicate it as a 0."
   ]
  },
  {
   "cell_type": "code",
   "execution_count": 148,
   "metadata": {},
   "outputs": [
    {
     "name": "stdout",
     "output_type": "stream",
     "text": [
      "[1] 1\n",
      "  1 \n",
      "602 \n"
     ]
    }
   ],
   "source": [
    "errors = 0\n",
    "errors = errors + 1\n",
    "print(errors)\n",
    "for(i in 1:nrow(Weekly)) {\n",
    "    loocv.fit = glm(Direction_bin~Lag1+Lag2, data=Weekly, subset=-i)\n",
    "    loocv.probs = predict(loocv.fit, Weekly)[i]\n",
    "    loocv.pred=ifelse(loocv.probs>0.5, 1, 0)\n",
    "    errors = errors + ifelse(loocv.pred == Weekly$Direction_bin[i], 1, 0)\n",
    "}\n",
    "print(errors)\n"
   ]
  }
 ],
 "metadata": {
  "kernelspec": {
   "display_name": "R",
   "language": "R",
   "name": "ir"
  },
  "language_info": {
   "codemirror_mode": "r",
   "file_extension": ".r",
   "mimetype": "text/x-r-source",
   "name": "R",
   "pygments_lexer": "r",
   "version": "3.5.2"
  }
 },
 "nbformat": 4,
 "nbformat_minor": 2
}
