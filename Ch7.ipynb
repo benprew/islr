{
 "cells": [
  {
   "cell_type": "markdown",
   "metadata": {},
   "source": [
    "# Moving Beyond Linear Models\n",
    "\n",
    "### Polynomial Regression\n",
    "Add additional predictors that are the original predictors raised to a power, ie X, X^2, X^3\n",
    "\n",
    "### Step Functions\n",
    "Cut the range of a variable into K distinct regions to produce a qualitative variable.  Fits like a piecewise constant function.\n",
    "\n",
    "### Regression Splines\n",
    "Similar to Step Function & Poly Regression, divide range of X into distinct regions and fit each region using a polynomial function.  But, they are constrained so they join smoothly to each region boundary (aka knot)\n",
    "\n",
    "### Smoothing Splines\n",
    "Similar to regression splines, but result from minimizing RSS with a smoothness penalty.\n",
    "\n",
    "### Local Regression\n",
    "Similar to splines, but regions can overlap, in a smooth way\n",
    "\n",
    "### Generalized Additive Model\n",
    "Extend above methods to work with multiple predictors\n",
    "\n",
    "\n",
    "\n"
   ]
  },
  {
   "cell_type": "markdown",
   "metadata": {},
   "source": [
    "### 6.\n"
   ]
  },
  {
   "cell_type": "code",
   "execution_count": 14,
   "metadata": {},
   "outputs": [
    {
     "name": "stderr",
     "output_type": "stream",
     "text": [
      "Loading required package: boot\n",
      "The following objects are masked from Wage (pos = 4):\n",
      "\n",
      "    age, education, health, health_ins, jobclass, logwage, maritl,\n",
      "    race, region, wage, year\n",
      "\n",
      "The following objects are masked from Wage (pos = 5):\n",
      "\n",
      "    age, education, health, health_ins, jobclass, logwage, maritl,\n",
      "    race, region, wage, year\n",
      "\n",
      "The following objects are masked from Wage (pos = 6):\n",
      "\n",
      "    age, education, health, health_ins, jobclass, logwage, maritl,\n",
      "    race, region, wage, year\n",
      "\n",
      "The following objects are masked from Wage (pos = 7):\n",
      "\n",
      "    age, education, health, health_ins, jobclass, logwage, maritl,\n",
      "    race, region, wage, year\n",
      "\n"
     ]
    }
   ],
   "source": [
    "require(ISLR)\n",
    "require(boot)\n",
    "attach(Wage)"
   ]
  },
  {
   "cell_type": "code",
   "execution_count": 15,
   "metadata": {},
   "outputs": [
    {
     "ename": "ERROR",
     "evalue": "Error: object of type 'closure' is not subsettable\n",
     "output_type": "error",
     "traceback": [
      "Error: object of type 'closure' is not subsettable\nTraceback:\n",
      "1. cv.glm(Wage, glm, K = 10)"
     ]
    }
   ],
   "source": [
    "fit=glm(wage~poly(age, 4), data=Wage)\n",
    "cv.glm(Wage, glm, K=10)$delta[1]  # [1]:std, [2]:bias-corrected\n"
   ]
  }
 ],
 "metadata": {
  "kernelspec": {
   "display_name": "R",
   "language": "R",
   "name": "ir"
  },
  "language_info": {
   "codemirror_mode": "r",
   "file_extension": ".r",
   "mimetype": "text/x-r-source",
   "name": "R",
   "pygments_lexer": "r",
   "version": "3.5.2"
  }
 },
 "nbformat": 4,
 "nbformat_minor": 2
}
