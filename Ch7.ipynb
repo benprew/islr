{
 "cells": [
  {
   "cell_type": "markdown",
   "metadata": {},
   "source": [
    "# Moving Beyond Linear Models\n",
    "\n",
    "### Polynomial Regression\n",
    "Add additional predictors that are the original predictors raised to a power, ie X, X^2, X^3\n",
    "\n",
    "### Step Functions\n",
    "Cut the range of a variable into K distinct regions to produce a qualitative variable.  Fits like a piecewise constant function.\n",
    "\n",
    "### Regression Splines\n",
    "Similar to Step Function & Poly Regression, divide range of X into distinct regions and fit each region using a polynomial function.  But, they are constrained so they join smoothly to each region boundary (aka knot)\n",
    "\n",
    "### Smoothing Splines\n",
    "Similar to regression splines, but result from minimizing RSS with a smoothness penalty.\n",
    "\n",
    "### Local Regression\n",
    "Similar to splines, but regions can overlap, in a smooth way\n",
    "\n",
    "### Generalized Additive Model\n",
    "Extend above methods to work with multiple predictors\n",
    "\n",
    "\n",
    "\n"
   ]
  },
  {
   "cell_type": "markdown",
   "metadata": {},
   "source": [
    "### 6.\n"
   ]
  },
  {
   "cell_type": "code",
   "execution_count": 6,
   "metadata": {},
   "outputs": [
    {
     "data": {
      "text/html": [
       "<table>\n",
       "<thead><tr><th></th><th scope=col>Estimate</th><th scope=col>Std. Error</th><th scope=col>t value</th><th scope=col>Pr(&gt;|t|)</th></tr></thead>\n",
       "<tbody>\n",
       "\t<tr><th scope=row>(Intercept)</th><td> 111.70361  </td><td> 0.7287409  </td><td>153.283015  </td><td>0.000000e+00</td></tr>\n",
       "\t<tr><th scope=row>poly(age, 4)1</th><td> 447.06785  </td><td>39.9147851  </td><td> 11.200558  </td><td>1.484604e-28</td></tr>\n",
       "\t<tr><th scope=row>poly(age, 4)2</th><td>-478.31581  </td><td>39.9147851  </td><td>-11.983424  </td><td>2.355831e-32</td></tr>\n",
       "\t<tr><th scope=row>poly(age, 4)3</th><td> 125.52169  </td><td>39.9147851  </td><td>  3.144742  </td><td>1.678622e-03</td></tr>\n",
       "\t<tr><th scope=row>poly(age, 4)4</th><td> -77.91118  </td><td>39.9147851  </td><td> -1.951938  </td><td>5.103865e-02</td></tr>\n",
       "</tbody>\n",
       "</table>\n"
      ],
      "text/latex": [
       "\\begin{tabular}{r|llll}\n",
       "  & Estimate & Std. Error & t value & Pr(>\\textbar{}t\\textbar{})\\\\\n",
       "\\hline\n",
       "\t(Intercept) &  111.70361   &  0.7287409   & 153.283015   & 0.000000e+00\\\\\n",
       "\tpoly(age, 4)1 &  447.06785   & 39.9147851   &  11.200558   & 1.484604e-28\\\\\n",
       "\tpoly(age, 4)2 & -478.31581   & 39.9147851   & -11.983424   & 2.355831e-32\\\\\n",
       "\tpoly(age, 4)3 &  125.52169   & 39.9147851   &   3.144742   & 1.678622e-03\\\\\n",
       "\tpoly(age, 4)4 &  -77.91118   & 39.9147851   &  -1.951938   & 5.103865e-02\\\\\n",
       "\\end{tabular}\n"
      ],
      "text/markdown": [
       "\n",
       "| <!--/--> | Estimate | Std. Error | t value | Pr(>|t|) |\n",
       "|---|---|---|---|---|\n",
       "| (Intercept) |  111.70361   |  0.7287409   | 153.283015   | 0.000000e+00 |\n",
       "| poly(age, 4)1 |  447.06785   | 39.9147851   |  11.200558   | 1.484604e-28 |\n",
       "| poly(age, 4)2 | -478.31581   | 39.9147851   | -11.983424   | 2.355831e-32 |\n",
       "| poly(age, 4)3 |  125.52169   | 39.9147851   |   3.144742   | 1.678622e-03 |\n",
       "| poly(age, 4)4 |  -77.91118   | 39.9147851   |  -1.951938   | 5.103865e-02 |\n",
       "\n"
      ],
      "text/plain": [
       "              Estimate   Std. Error t value    Pr(>|t|)    \n",
       "(Intercept)    111.70361  0.7287409 153.283015 0.000000e+00\n",
       "poly(age, 4)1  447.06785 39.9147851  11.200558 1.484604e-28\n",
       "poly(age, 4)2 -478.31581 39.9147851 -11.983424 2.355831e-32\n",
       "poly(age, 4)3  125.52169 39.9147851   3.144742 1.678622e-03\n",
       "poly(age, 4)4  -77.91118 39.9147851  -1.951938 5.103865e-02"
      ]
     },
     "metadata": {},
     "output_type": "display_data"
    }
   ],
   "source": [
    "library(ISLR)\n",
    "attach(Wage)\n",
    "fit=lm(wage~poly(age, 4), data=Wage)\n",
    "coef(summary(fit))"
   ]
  }
 ],
 "metadata": {
  "kernelspec": {
   "display_name": "R",
   "language": "R",
   "name": "ir"
  },
  "language_info": {
   "codemirror_mode": "r",
   "file_extension": ".r",
   "mimetype": "text/x-r-source",
   "name": "R",
   "pygments_lexer": "r",
   "version": "3.5.2"
  }
 },
 "nbformat": 4,
 "nbformat_minor": 2
}
