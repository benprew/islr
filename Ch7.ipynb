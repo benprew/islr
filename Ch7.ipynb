{
 "cells": [
  {
   "cell_type": "markdown",
   "metadata": {},
   "source": [
    "# Moving Beyond Linear Models\n",
    "\n",
    "### Polynomial Regression\n",
    "Add additional predictors that are the original predictors raised to a power, ie X, X^2, X^3\n",
    "\n",
    "### Step Functions\n",
    "Cut the range of a variable into K distinct regions to produce a qualitative variable.  Fits like a piecewise constant function.\n",
    "\n",
    "### Regression Splines\n",
    "Similar to Step Function & Poly Regression, divide range of X into distinct regions and fit each region using a polynomial function.  But, they are constrained so they join smoothly to each region boundary (aka knot)\n",
    "\n",
    "### Smoothing Splines\n",
    "Similar to regression splines, but result from minimizing RSS with a smoothness penalty.\n",
    "\n",
    "### Local Regression\n",
    "Similar to splines, but regions can overlap, in a smooth way\n",
    "\n",
    "### Generalized Additive Model\n",
    "Extend above methods to work with multiple predictors\n",
    "\n",
    "\n",
    "\n"
   ]
  },
  {
   "cell_type": "markdown",
   "metadata": {},
   "source": [
    "### 6.\n"
   ]
  },
  {
   "cell_type": "code",
   "execution_count": 14,
   "metadata": {},
   "outputs": [
    {
     "name": "stderr",
     "output_type": "stream",
     "text": [
      "Loading required package: boot\n",
      "The following objects are masked from Wage (pos = 4):\n",
      "\n",
      "    age, education, health, health_ins, jobclass, logwage, maritl,\n",
      "    race, region, wage, year\n",
      "\n",
      "The following objects are masked from Wage (pos = 5):\n",
      "\n",
      "    age, education, health, health_ins, jobclass, logwage, maritl,\n",
      "    race, region, wage, year\n",
      "\n",
      "The following objects are masked from Wage (pos = 6):\n",
      "\n",
      "    age, education, health, health_ins, jobclass, logwage, maritl,\n",
      "    race, region, wage, year\n",
      "\n",
      "The following objects are masked from Wage (pos = 7):\n",
      "\n",
      "    age, education, health, health_ins, jobclass, logwage, maritl,\n",
      "    race, region, wage, year\n",
      "\n"
     ]
    }
   ],
   "source": [
    "require(ISLR)\n",
    "require(boot)\n",
    "attach(Wage)"
   ]
  },
  {
   "cell_type": "code",
   "execution_count": 16,
   "metadata": {},
   "outputs": [
    {
     "data": {
      "text/html": [
       "<ol class=list-inline>\n",
       "\t<li>1678.04302640828</li>\n",
       "\t<li>1599.91363218982</li>\n",
       "\t<li>1596.19349810409</li>\n",
       "\t<li>1595.60203834654</li>\n",
       "\t<li>1595.92290687194</li>\n",
       "\t<li>1593.1912978129</li>\n",
       "\t<li>1593.79344422568</li>\n",
       "\t<li>1594.6069230732</li>\n",
       "\t<li>1592.48626254564</li>\n",
       "\t<li>1596.62170552454</li>\n",
       "</ol>\n"
      ],
      "text/latex": [
       "\\begin{enumerate*}\n",
       "\\item 1678.04302640828\n",
       "\\item 1599.91363218982\n",
       "\\item 1596.19349810409\n",
       "\\item 1595.60203834654\n",
       "\\item 1595.92290687194\n",
       "\\item 1593.1912978129\n",
       "\\item 1593.79344422568\n",
       "\\item 1594.6069230732\n",
       "\\item 1592.48626254564\n",
       "\\item 1596.62170552454\n",
       "\\end{enumerate*}\n"
      ],
      "text/markdown": [
       "1. 1678.04302640828\n",
       "2. 1599.91363218982\n",
       "3. 1596.19349810409\n",
       "4. 1595.60203834654\n",
       "5. 1595.92290687194\n",
       "6. 1593.1912978129\n",
       "7. 1593.79344422568\n",
       "8. 1594.6069230732\n",
       "9. 1592.48626254564\n",
       "10. 1596.62170552454\n",
       "\n",
       "\n"
      ],
      "text/plain": [
       " [1] 1678.043 1599.914 1596.193 1595.602 1595.923 1593.191 1593.793 1594.607\n",
       " [9] 1592.486 1596.622"
      ]
     },
     "metadata": {},
     "output_type": "display_data"
    }
   ],
   "source": [
    "cv.error <- rep(0,10)\n",
    "for (i in 1:10) {\n",
    "  glm.fit <- glm(wage~poly(age,i), data=Wage)\n",
    "  cv.error[i] <- cv.glm(Wage, glm.fit, K=10)$delta[1]  # [1]:std, [2]:bias-corrected\n",
    "}\n",
    "cv.error"
   ]
  }
 ],
 "metadata": {
  "kernelspec": {
   "display_name": "R",
   "language": "R",
   "name": "ir"
  },
  "language_info": {
   "codemirror_mode": "r",
   "file_extension": ".r",
   "mimetype": "text/x-r-source",
   "name": "R",
   "pygments_lexer": "r",
   "version": "3.5.2"
  }
 },
 "nbformat": 4,
 "nbformat_minor": 2
}
