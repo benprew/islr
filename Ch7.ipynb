{
 "cells": [
  {
   "cell_type": "markdown",
   "metadata": {},
   "source": [
    "# Moving Beyond Linear Models\n",
    "\n",
    "### Polynomial Regression\n",
    "Add additional predictors that are the original predictors raised to a power, ie X, X^2, X^3\n",
    "\n",
    "### Step Functions\n",
    "Cut the range of a variable into K distinct regions to produce a qualitative variable.  Fits like a piecewise constant function.\n",
    "\n",
    "### Regression Splines\n",
    "Similar to Step Function & Poly Regression, divide range of X into distinct regions and fit each region using a polynomial function.  But, they are constrained so they join smoothly to each region boundary (aka knot)\n",
    "\n",
    "### Smoothing Splines\n",
    "Similar to regression splines, but result from minimizing RSS with a smoothness penalty.\n",
    "\n",
    "### Local Regression\n",
    "Similar to splines, but regions can overlap, in a smooth way\n",
    "\n",
    "### Generalized Additive Model\n",
    "Extend above methods to work with multiple predictors\n",
    "\n",
    "\n",
    "\n"
   ]
  },
  {
   "cell_type": "markdown",
   "metadata": {},
   "source": [
    "### 6.\n"
   ]
  },
  {
   "cell_type": "code",
   "execution_count": 14,
   "metadata": {},
   "outputs": [
    {
     "name": "stderr",
     "output_type": "stream",
     "text": [
      "Loading required package: boot\n",
      "The following objects are masked from Wage (pos = 4):\n",
      "\n",
      "    age, education, health, health_ins, jobclass, logwage, maritl,\n",
      "    race, region, wage, year\n",
      "\n",
      "The following objects are masked from Wage (pos = 5):\n",
      "\n",
      "    age, education, health, health_ins, jobclass, logwage, maritl,\n",
      "    race, region, wage, year\n",
      "\n",
      "The following objects are masked from Wage (pos = 6):\n",
      "\n",
      "    age, education, health, health_ins, jobclass, logwage, maritl,\n",
      "    race, region, wage, year\n",
      "\n",
      "The following objects are masked from Wage (pos = 7):\n",
      "\n",
      "    age, education, health, health_ins, jobclass, logwage, maritl,\n",
      "    race, region, wage, year\n",
      "\n"
     ]
    }
   ],
   "source": [
    "require(ISLR)\n",
    "require(boot)\n",
    "attach(Wage)"
   ]
  },
  {
   "cell_type": "code",
   "execution_count": 20,
   "metadata": {},
   "outputs": [
    {
     "data": {
      "text/html": [
       "<ol class=list-inline>\n",
       "\t<li>1676.17226779644</li>\n",
       "\t<li>1599.96738585887</li>\n",
       "\t<li>1595.31906267321</li>\n",
       "\t<li>1595.9286248794</li>\n",
       "\t<li>1596.25964704617</li>\n",
       "\t<li>1593.54334037341</li>\n",
       "\t<li>1594.63193436388</li>\n",
       "\t<li>1593.3831461431</li>\n",
       "\t<li>1592.51979590519</li>\n",
       "\t<li>1594.67223367744</li>\n",
       "</ol>\n"
      ],
      "text/latex": [
       "\\begin{enumerate*}\n",
       "\\item 1676.17226779644\n",
       "\\item 1599.96738585887\n",
       "\\item 1595.31906267321\n",
       "\\item 1595.9286248794\n",
       "\\item 1596.25964704617\n",
       "\\item 1593.54334037341\n",
       "\\item 1594.63193436388\n",
       "\\item 1593.3831461431\n",
       "\\item 1592.51979590519\n",
       "\\item 1594.67223367744\n",
       "\\end{enumerate*}\n"
      ],
      "text/markdown": [
       "1. 1676.17226779644\n",
       "2. 1599.96738585887\n",
       "3. 1595.31906267321\n",
       "4. 1595.9286248794\n",
       "5. 1596.25964704617\n",
       "6. 1593.54334037341\n",
       "7. 1594.63193436388\n",
       "8. 1593.3831461431\n",
       "9. 1592.51979590519\n",
       "10. 1594.67223367744\n",
       "\n",
       "\n"
      ],
      "text/plain": [
       " [1] 1676.172 1599.967 1595.319 1595.929 1596.260 1593.543 1594.632 1593.383\n",
       " [9] 1592.520 1594.672"
      ]
     },
     "metadata": {},
     "output_type": "display_data"
    }
   ],
   "source": [
    "cv.error <- rep(0,10)\n",
    "for (i in 1:10) {\n",
    "  glm.fit <- glm(wage~poly(age,i), data=Wage)\n",
    "  cv.error[i] <- cv.glm(Wage, glm.fit, K=10)$delta[2]  # [1]:std, [2]:bias-corrected\n",
    "}\n",
    "cv.error\n",
    "?cv.glm\n"
   ]
  }
 ],
 "metadata": {
  "kernelspec": {
   "display_name": "R",
   "language": "R",
   "name": "ir"
  },
  "language_info": {
   "codemirror_mode": "r",
   "file_extension": ".r",
   "mimetype": "text/x-r-source",
   "name": "R",
   "pygments_lexer": "r",
   "version": "3.5.2"
  }
 },
 "nbformat": 4,
 "nbformat_minor": 2
}
