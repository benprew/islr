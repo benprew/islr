{
 "cells": [
  {
   "cell_type": "markdown",
   "metadata": {},
   "source": [
    "### 5. "
   ]
  },
  {
   "cell_type": "code",
   "execution_count": 2,
   "metadata": {},
   "outputs": [
    {
     "data": {
      "text/html": [
       "0.45"
      ],
      "text/latex": [
       "0.45"
      ],
      "text/markdown": [
       "0.45"
      ],
      "text/plain": [
       "[1] 0.45"
      ]
     },
     "metadata": {},
     "output_type": "display_data"
    },
    {
     "data": {
      "text/html": [
       "0.575"
      ],
      "text/latex": [
       "0.575"
      ],
      "text/markdown": [
       "0.575"
      ],
      "text/plain": [
       "[1] 0.575"
      ]
     },
     "metadata": {},
     "output_type": "display_data"
    }
   ],
   "source": [
    "mean(c(0.1,0.15,0.2,0.2,0.55,0.6, 0.6, 0.65, 0.7, 0.75))\n",
    "\n",
    "# <.5 means green\n",
    "\n",
    "median(c(0.1,0.15,0.2,0.2,0.55,0.6, 0.6, 0.65, 0.7, 0.75))\n",
    "\n",
    "# >.5 means red"
   ]
  }
 ],
 "metadata": {
  "kernelspec": {
   "display_name": "R",
   "language": "R",
   "name": "ir"
  },
  "language_info": {
   "codemirror_mode": "r",
   "file_extension": ".r",
   "mimetype": "text/x-r-source",
   "name": "R",
   "pygments_lexer": "r",
   "version": "3.5.2"
  }
 },
 "nbformat": 4,
 "nbformat_minor": 2
}
