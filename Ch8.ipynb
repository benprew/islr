{
 "cells": [
  {
   "cell_type": "markdown",
   "metadata": {},
   "source": [
    "### 5. "
   ]
  },
  {
   "cell_type": "code",
   "execution_count": 2,
   "metadata": {},
   "outputs": [
    {
     "data": {
      "text/html": [
       "0.45"
      ],
      "text/latex": [
       "0.45"
      ],
      "text/markdown": [
       "0.45"
      ],
      "text/plain": [
       "[1] 0.45"
      ]
     },
     "metadata": {},
     "output_type": "display_data"
    },
    {
     "data": {
      "text/html": [
       "0.575"
      ],
      "text/latex": [
       "0.575"
      ],
      "text/markdown": [
       "0.575"
      ],
      "text/plain": [
       "[1] 0.575"
      ]
     },
     "metadata": {},
     "output_type": "display_data"
    }
   ],
   "source": [
    "mean(c(0.1,0.15,0.2,0.2,0.55,0.6, 0.6, 0.65, 0.7, 0.75))\n",
    "\n",
    "# <.5 means green\n",
    "\n",
    "median(c(0.1,0.15,0.2,0.2,0.55,0.6, 0.6, 0.65, 0.7, 0.75))\n",
    "\n",
    "# >.5 means red"
   ]
  },
  {
   "cell_type": "code",
   "execution_count": 3,
   "metadata": {},
   "outputs": [
    {
     "name": "stderr",
     "output_type": "stream",
     "text": [
      "Warning message in read.dcf(file.path(p, \"DESCRIPTION\"), c(\"Package\", \"Version\")):\n",
      "“cannot open compressed file '/usr/local/Cellar/r/3.5.2_2/lib/R/library/compiler/DESCRIPTION', probable reason 'No such file or directory'”Warning message in read.dcf(file.path(p, \"DESCRIPTION\"), c(\"Package\", \"Version\")):\n",
      "“cannot open compressed file '/usr/local/Cellar/r/3.5.2_2/lib/R/library/graphics/DESCRIPTION', probable reason 'No such file or directory'”Warning message in read.dcf(file.path(p, \"DESCRIPTION\"), c(\"Package\", \"Version\")):\n",
      "“cannot open compressed file '/usr/local/Cellar/r/3.5.2_2/lib/R/library/tools/DESCRIPTION', probable reason 'No such file or directory'”Warning message in read.dcf(file.path(p, \"DESCRIPTION\"), c(\"Package\", \"Version\")):\n",
      "“cannot open compressed file '/usr/local/Cellar/r/3.5.2_2/lib/R/library/utils/DESCRIPTION', probable reason 'No such file or directory'”Warning message in read.dcf(file.path(p, \"DESCRIPTION\"), c(\"Package\", \"Version\")):\n",
      "“cannot open compressed file '/usr/local/Cellar/r/3.5.2_2/lib/R/library/grDevices/DESCRIPTION', probable reason 'No such file or directory'”Warning message in read.dcf(file.path(p, \"DESCRIPTION\"), c(\"Package\", \"Version\")):\n",
      "“cannot open compressed file '/usr/local/Cellar/r/3.5.2_2/lib/R/library/stats/DESCRIPTION', probable reason 'No such file or directory'”Warning message in read.dcf(file.path(p, \"DESCRIPTION\"), c(\"Package\", \"Version\")):\n",
      "“cannot open compressed file '/usr/local/Cellar/r/3.5.2_2/lib/R/library/datasets/DESCRIPTION', probable reason 'No such file or directory'”Warning message in read.dcf(file.path(p, \"DESCRIPTION\"), c(\"Package\", \"Version\")):\n",
      "“cannot open compressed file '/usr/local/Cellar/r/3.5.2_2/lib/R/library/methods/DESCRIPTION', probable reason 'No such file or directory'”Warning message in read.dcf(file.path(p, \"DESCRIPTION\"), c(\"Package\", \"Version\")):\n",
      "“cannot open compressed file '/usr/local/Cellar/r/3.5.2_2/lib/R/library/base/DESCRIPTION', probable reason 'No such file or directory'”Warning message in find.package(if (is.null(package)) loadedNamespaces() else package, :\n",
      "“there is no package called ‘compiler’”Warning message in find.package(if (is.null(package)) loadedNamespaces() else package, :\n",
      "“there is no package called ‘graphics’”Warning message in find.package(if (is.null(package)) loadedNamespaces() else package, :\n",
      "“there is no package called ‘tools’”Warning message in find.package(if (is.null(package)) loadedNamespaces() else package, :\n",
      "“there is no package called ‘utils’”Warning message in find.package(if (is.null(package)) loadedNamespaces() else package, :\n",
      "“there is no package called ‘grDevices’”Warning message in find.package(if (is.null(package)) loadedNamespaces() else package, :\n",
      "“there is no package called ‘stats’”Warning message in find.package(if (is.null(package)) loadedNamespaces() else package, :\n",
      "“there is no package called ‘datasets’”Warning message in find.package(if (is.null(package)) loadedNamespaces() else package, :\n",
      "“there is no package called ‘methods’”Warning message in find.package(if (is.null(package)) loadedNamespaces() else package, :\n",
      "“there is no package called ‘base’”"
     ]
    }
   ],
   "source": []
  }
 ],
 "metadata": {
  "kernelspec": {
   "display_name": "R",
   "language": "R",
   "name": "ir"
  },
  "language_info": {
   "codemirror_mode": "r",
   "file_extension": ".r",
   "mimetype": "text/x-r-source",
   "name": "R",
   "pygments_lexer": "r",
   "version": "3.5.2"
  }
 },
 "nbformat": 4,
 "nbformat_minor": 2
}
