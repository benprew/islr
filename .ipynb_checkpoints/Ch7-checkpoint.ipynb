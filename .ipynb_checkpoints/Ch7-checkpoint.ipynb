{
 "cells": [
  {
   "cell_type": "markdown",
   "metadata": {},
   "source": [
    "# Moving Beyond Linear Models\n",
    "\n",
    "### Polynomial Regression\n",
    "Add additional predictors that are the original predictors raised to a power, ie X, X^2, X^3\n",
    "\n",
    "### Step Functions\n",
    "Cut the range of a variable into K distinct regions to produce a qualitative variable.  Fits like a piecewise constant function.\n",
    "\n",
    "### Regression Splines\n",
    "Similar to Step Function & Poly Regression, divide range of X into distinct regions and fit each region using a polynomial function.  But, they are constrained so they join smoothly to each region boundary (aka knot)\n",
    "\n",
    "### Smoothing Splines\n",
    "Similar to regression splines, but result from minimizing RSS with a smoothness penalty.\n",
    "\n",
    "### Local Regression\n",
    "Similar to splines, but regions can overlap, in a smooth way\n",
    "\n",
    "### Generalized Additive Model\n",
    "Extend above methods to work with multiple predictors\n",
    "\n",
    "\n",
    "\n"
   ]
  },
  {
   "cell_type": "markdown",
   "metadata": {},
   "source": [
    "### 6.\n"
   ]
  },
  {
   "cell_type": "code",
   "execution_count": 14,
   "metadata": {},
   "outputs": [
    {
     "name": "stderr",
     "output_type": "stream",
     "text": [
      "Loading required package: boot\n",
      "The following objects are masked from Wage (pos = 4):\n",
      "\n",
      "    age, education, health, health_ins, jobclass, logwage, maritl,\n",
      "    race, region, wage, year\n",
      "\n",
      "The following objects are masked from Wage (pos = 5):\n",
      "\n",
      "    age, education, health, health_ins, jobclass, logwage, maritl,\n",
      "    race, region, wage, year\n",
      "\n",
      "The following objects are masked from Wage (pos = 6):\n",
      "\n",
      "    age, education, health, health_ins, jobclass, logwage, maritl,\n",
      "    race, region, wage, year\n",
      "\n",
      "The following objects are masked from Wage (pos = 7):\n",
      "\n",
      "    age, education, health, health_ins, jobclass, logwage, maritl,\n",
      "    race, region, wage, year\n",
      "\n"
     ]
    }
   ],
   "source": [
    "require(ISLR)\n",
    "require(boot)\n",
    "attach(Wage)"
   ]
  },
  {
   "cell_type": "code",
   "execution_count": 26,
   "metadata": {},
   "outputs": [
    {
     "data": {
      "text/html": [
       "<ol class=list-inline>\n",
       "\t<li>1675.83666416745</li>\n",
       "\t<li>1601.01238441043</li>\n",
       "\t<li>1598.80055357161</li>\n",
       "\t<li>1594.21666141924</li>\n",
       "\t<li>1594.62543802104</li>\n",
       "\t<li>1594.88753567284</li>\n",
       "\t<li>1595.49954953498</li>\n",
       "\t<li>1595.43644972775</li>\n",
       "\t<li>1596.33505071065</li>\n",
       "\t<li>1595.8346568187</li>\n",
       "</ol>\n"
      ],
      "text/latex": [
       "\\begin{enumerate*}\n",
       "\\item 1675.83666416745\n",
       "\\item 1601.01238441043\n",
       "\\item 1598.80055357161\n",
       "\\item 1594.21666141924\n",
       "\\item 1594.62543802104\n",
       "\\item 1594.88753567284\n",
       "\\item 1595.49954953498\n",
       "\\item 1595.43644972775\n",
       "\\item 1596.33505071065\n",
       "\\item 1595.8346568187\n",
       "\\end{enumerate*}\n"
      ],
      "text/markdown": [
       "1. 1675.83666416745\n",
       "2. 1601.01238441043\n",
       "3. 1598.80055357161\n",
       "4. 1594.21666141924\n",
       "5. 1594.62543802104\n",
       "6. 1594.88753567284\n",
       "7. 1595.49954953498\n",
       "8. 1595.43644972775\n",
       "9. 1596.33505071065\n",
       "10. 1595.8346568187\n",
       "\n",
       "\n"
      ],
      "text/plain": [
       " [1] 1675.837 1601.012 1598.801 1594.217 1594.625 1594.888 1595.500 1595.436\n",
       " [9] 1596.335 1595.835"
      ]
     },
     "metadata": {},
     "output_type": "display_data"
    }
   ],
   "source": [
    "set.seed(1)\n",
    "cv.error <- rep(0,10)\n",
    "for (i in 1:10) {\n",
    "    glm.fit <- glm(wage~poly(age,i), data=Wage)\n",
    "    cv.error[i] <- cv.glm(Wage, glm.fit, K=10)$delta[1]  # [1]:std, [2]:bias-corrected\n",
    "}\n",
    "cv.error\n"
   ]
  }
 ],
 "metadata": {
  "kernelspec": {
   "display_name": "R",
   "language": "R",
   "name": "ir"
  },
  "language_info": {
   "codemirror_mode": "r",
   "file_extension": ".r",
   "mimetype": "text/x-r-source",
   "name": "R",
   "pygments_lexer": "r",
   "version": "3.5.2"
  }
 },
 "nbformat": 4,
 "nbformat_minor": 2
}
